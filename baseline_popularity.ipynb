{
 "cells": [
  {
   "cell_type": "code",
   "execution_count": 1,
   "id": "4cf6e845",
   "metadata": {},
   "outputs": [
    {
     "name": "stderr",
     "output_type": "stream",
     "text": [
      "Setting default log level to \"WARN\".\n",
      "To adjust logging level use sc.setLogLevel(newLevel). For SparkR, use setLogLevel(newLevel).\n"
     ]
    },
    {
     "name": "stdout",
     "output_type": "stream",
     "text": [
      "23/04/23 22:56:16 WARN NativeCodeLoader: Unable to load native-hadoop library for your platform... using builtin-java classes where applicable\n"
     ]
    }
   ],
   "source": [
    "import numpy as np\n",
    "\n",
    "import os\n",
    "\n",
    "from pyspark.sql import SparkSession\n",
    "from pyspark.sql.functions import (\n",
    "    max, avg, sum, count, countDistinct,\n",
    "    percentile_approx, col, asc, desc, collect_list,\n",
    "    lit, rand, when\n",
    ")\n",
    "from pyspark.ml.evaluation import RankingEvaluator\n",
    "\n",
    "spark = SparkSession.builder.master('spark://cs449:22470').getOrCreate()"
   ]
  },
  {
   "cell_type": "code",
   "execution_count": 2,
   "id": "eaccfb7f",
   "metadata": {},
   "outputs": [],
   "source": [
    "def gen_utiltiy_matrix(interactions, tracks):\n",
    "    interactions.createOrReplaceTempView('interactions')\n",
    "    tracks.createOrReplaceTempView('tracks')\n",
    "\n",
    "    listens_per_user_track = spark.sql(\n",
    "        \"\"\"\n",
    "        SELECT user_id,universal_id,sum(num_listens) as num_listens\n",
    "        FROM interactions\n",
    "        LEFT JOIN tracks\n",
    "        ON tracks.recording_msid=interactions.recording_msid\n",
    "        GROUP BY user_id,universal_id\n",
    "        \"\"\"\n",
    "    )\n",
    "\n",
    "    listens_per_user = listens_per_user_track.select(\n",
    "        listens_per_user_track.user_id, listens_per_user_track.num_listens\n",
    "    ).groupBy('user_id').agg(\n",
    "        sum(listens_per_user_track.num_listens).alias('total_listens')\n",
    "    )\n",
    "\n",
    "    listens_per_user = listens_per_user.withColumn(\n",
    "        'use_for_fit',\n",
    "        when(\n",
    "            listens_per_user.total_listens >= 500, True\n",
    "        ).otherwise(\n",
    "            False\n",
    "        )\n",
    "    )\n",
    "\n",
    "    normed_listens_per_user_track = listens_per_user_track.join(listens_per_user, how='left', on='user_id')\n",
    "    normed_listens_per_user_track = normed_listens_per_user_track.withColumn(\n",
    "        \"prop_listens\",\n",
    "        col(\"num_listens\")/col(\"total_listens\")\n",
    "    ).select(\n",
    "        ['user_id', 'universal_id', 'prop_listens', 'use_for_fit']\n",
    "    ).orderBy(\n",
    "        col('user_id').asc(),\n",
    "        col('prop_listens').desc()\n",
    "    )\n",
    "\n",
    "    return normed_listens_per_user_track\n",
    "\n",
    "\n",
    "def calc_baseline_popularity(utility_mat, beta):\n",
    "    utility_mat = utility_mat.filter(\n",
    "        utility_mat.use_for_fit\n",
    "    )\n",
    "\n",
    "    baseline_popularity = utility_mat.groupBy(\n",
    "        'universal_id'\n",
    "    ).agg(\n",
    "        sum(utility_mat.prop_listens).alias(\"total\"),\n",
    "        count(utility_mat.prop_listens).alias(\"num_users\"),\n",
    "    )\n",
    "\n",
    "    baseline_popularity = baseline_popularity.filter(\n",
    "        baseline_popularity.num_users >= 250\n",
    "    )\n",
    "    \n",
    "    baseline_popularity = baseline_popularity.withColumn(\n",
    "        \"P_i\",\n",
    "        col(\"total\") / (col(\"num_users\") + beta)\n",
    "    ).orderBy(\n",
    "        \"P_i\",\n",
    "        ascending=False\n",
    "    )\n",
    "\n",
    "    return baseline_popularity.select(['universal_id','P_i'])\n",
    "\n",
    "def calc_performance_metrics(predicted, actual):\n",
    "    actual_compressed = actual.groupBy(\n",
    "        'user_id'\n",
    "    ).agg(\n",
    "        collect_list(col('universal_id').astype('double')).alias('universal_id'),\n",
    "        collect_list(col('prop_listens').astype('double')).alias('prop_listens')\n",
    "    )\n",
    "    actual_compressed = actual_compressed.withColumn('key', lit(1))\n",
    "\n",
    "\n",
    "    predicted_compressed = predicted.limit(5000).agg(\n",
    "        collect_list(col('universal_id').astype('double')).alias('predicted_universal_id')\n",
    "    ).withColumn('key', lit(1))\n",
    "\n",
    "    results = actual_compressed.join(\n",
    "        predicted_compressed,\n",
    "        how='left',\n",
    "        on='key'\n",
    "    )\n",
    "\n",
    "    return RankingEvaluator(\n",
    "        predictionCol='predicted_universal_id',\n",
    "        labelCol='universal_id',\n",
    "        metricName='meanAveragePrecisionAtK',\n",
    "        k=100\n",
    "    ).evaluate(results)"
   ]
  },
  {
   "cell_type": "code",
   "execution_count": 4,
   "id": "1d889aaa",
   "metadata": {},
   "outputs": [
    {
     "name": "stderr",
     "output_type": "stream",
     "text": [
      "                                                                                \r"
     ]
    }
   ],
   "source": [
    "interactions_train = spark.read.parquet('interactions_split_train.parquet')\n",
    "interactions_val = spark.read.parquet('interactions_split_val.parquet')\n",
    "interactions_test = spark.read.parquet(\"/scratch/work/courses/DSGA1004-2021/listenbrainz/interactions_test.parquet\")\n",
    "\n",
    "tracks_train = spark.read.parquet('tracks_train.parquet')\n",
    "tracks_test = spark.read.parquet('tracks_test.parquet')"
   ]
  },
  {
   "cell_type": "code",
   "execution_count": 5,
   "id": "ef7ec926",
   "metadata": {},
   "outputs": [],
   "source": [
    "utility_mat_train = gen_utiltiy_matrix(interactions_train, tracks_train)\n",
    "utility_mat_val = gen_utiltiy_matrix(interactions_val, tracks_train)\n",
    "utility_mat_test = gen_utiltiy_matrix(interactions_test, tracks_test)"
   ]
  },
  {
   "cell_type": "code",
   "execution_count": null,
   "id": "3aecdc58",
   "metadata": {
    "scrolled": false
   },
   "outputs": [
    {
     "name": "stdout",
     "output_type": "stream",
     "text": [
      "Running Beta = 1.0\n"
     ]
    },
    {
     "name": "stderr",
     "output_type": "stream",
     "text": [
      "[Stage 67:=======================================================>(63 + 1) / 64]\r"
     ]
    }
   ],
   "source": [
    "candidate_betas = 10 ** np.linspace(0, 8, 150)\n",
    "\n",
    "betas = []\n",
    "map_at_100_train = []\n",
    "map_at_100_val = []\n",
    "map_at_100_test = []\n",
    "\n",
    "for beta in candidate_betas:\n",
    "    print(f\"Running Beta = {round(beta, 0)}\")\n",
    "\n",
    "    baseline_pops_train = calc_baseline_popularity(utility_mat_train, beta)\n",
    "    \n",
    "    metrics_train = calc_performance_metrics(baseline_pops_train, utility_mat_train)\n",
    "    metrics_val = calc_performance_metrics(baseline_pops_train, utility_mat_val)\n",
    "    metrics_test = calc_performance_metrics(baseline_pops_train, utility_mat_test)\n",
    "\n",
    "    betas.append(beta)\n",
    "    map_at_100_train.append(metrics_train)\n",
    "    map_at_100_val.append(metrics_val)\n",
    "    map_at_100_test.append(metrics_test)\n",
    "    \n",
    "    print(f\"MAP Train: {round(metrics_train, 5)}, MAP Val: {round(metrics_val, 5)}, MAP Test: {round(metrics_test, 5)}\")"
   ]
  },
  {
   "cell_type": "code",
   "execution_count": null,
   "id": "e1a437f0",
   "metadata": {},
   "outputs": [],
   "source": [
    "import pandas as pd\n",
    "\n",
    "pd.DataFrame({\n",
    "    'beta': betas,\n",
    "    'Train MAP': map_at_100_train,\n",
    "    'Validation MAP': map_at_100_val,\n",
    "    'Test MAP': map_at_100_test\n",
    "}).to_csv('baseline_popularity_results.csv')"
   ]
  },
  {
   "cell_type": "code",
   "execution_count": null,
   "id": "937f6a1d",
   "metadata": {},
   "outputs": [],
   "source": []
  }
 ],
 "metadata": {
  "kernelspec": {
   "display_name": "Python 3 (ipykernel)",
   "language": "python",
   "name": "python3"
  },
  "language_info": {
   "codemirror_mode": {
    "name": "ipython",
    "version": 3
   },
   "file_extension": ".py",
   "mimetype": "text/x-python",
   "name": "python",
   "nbconvert_exporter": "python",
   "pygments_lexer": "ipython3",
   "version": "3.10.6"
  }
 },
 "nbformat": 4,
 "nbformat_minor": 5
}

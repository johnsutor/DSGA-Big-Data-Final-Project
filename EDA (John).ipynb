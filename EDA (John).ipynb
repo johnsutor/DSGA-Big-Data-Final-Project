{
 "cells": [
  {
   "cell_type": "code",
   "execution_count": 2,
   "id": "5b63a85d",
   "metadata": {},
   "outputs": [],
   "source": [
    "import pandas as pd"
   ]
  },
  {
   "cell_type": "code",
   "execution_count": 3,
   "id": "96414e68",
   "metadata": {},
   "outputs": [
    {
     "name": "stdout",
     "output_type": "stream",
     "text": [
      "total 15G\r\n",
      "-rw-r--r--. 1 2502497 users 1.9G Apr 11 22:40 interactions_test.parquet\r\n",
      "-rw-r--r--. 1 2502497 users 6.8G Apr 11 22:41 interactions_train.parquet\r\n",
      "-rw-r--r--. 1 2502497 users 1.9G Apr 11 22:41 interactions_train_small.parquet\r\n",
      "-rw-r--r--. 1 2502497 users 767M Apr 11 22:41 tracks_test.parquet\r\n",
      "-rw-r--r--. 1 2502497 users 2.1G Apr 11 22:41 tracks_train.parquet\r\n",
      "-rw-r--r--. 1 2502497 users 1.5G Apr 11 22:41 tracks_train_small.parquet\r\n",
      "-rw-r--r--. 1 2502497 users 128K Apr 11 22:41 users_test.parquet\r\n",
      "-rw-r--r--. 1 2502497 users 141K Apr 11 22:41 users_train.parquet\r\n",
      "-rw-r--r--. 1 2502497 users 124K Apr 11 22:41 users_train_small.parquet\r\n"
     ]
    }
   ],
   "source": [
    "!ls -lh /scratch/work/courses/DSGA1004-2021/listenbrainz/"
   ]
  },
  {
   "cell_type": "code",
   "execution_count": null,
   "id": "41262fd3",
   "metadata": {},
   "outputs": [],
   "source": [
    "tracks = pd.read_parquet(\"/scratch/work/courses/DSGA1004-2021/listenbrainz/tracks_train.parquet\")\n",
    "interactions = pd.read_parquet(\"/scratch/work/courses/DSGA1004-2021/listenbrainz/interactions_train.parquet\")"
   ]
  },
  {
   "cell_type": "code",
   "execution_count": null,
   "id": "fdadba21",
   "metadata": {},
   "outputs": [],
   "source": []
  }
 ],
 "metadata": {
  "kernelspec": {
   "display_name": "Python 3 (ipykernel)",
   "language": "python",
   "name": "python3"
  },
  "language_info": {
   "codemirror_mode": {
    "name": "ipython",
    "version": 3
   },
   "file_extension": ".py",
   "mimetype": "text/x-python",
   "name": "python",
   "nbconvert_exporter": "python",
   "pygments_lexer": "ipython3",
   "version": "3.9.10"
  }
 },
 "nbformat": 4,
 "nbformat_minor": 5
}

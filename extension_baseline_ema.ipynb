{
 "cells": [
  {
   "cell_type": "code",
   "execution_count": 1,
   "id": "4cf6e845",
   "metadata": {},
   "outputs": [
    {
     "name": "stderr",
     "output_type": "stream",
     "text": [
      "WARNING:root:'PYARROW_IGNORE_TIMEZONE' environment variable was not set. It is required to set this environment variable to '1' in both driver and executor sides if you use pyarrow>=2.0.0. pandas-on-Spark will set it for you but it does not work if there is a Spark context already launched.\n",
      "Setting default log level to \"WARN\".\n",
      "To adjust logging level use sc.setLogLevel(newLevel). For SparkR, use setLogLevel(newLevel).\n"
     ]
    },
    {
     "name": "stdout",
     "output_type": "stream",
     "text": [
      "23/05/13 14:27:20 WARN NativeCodeLoader: Unable to load native-hadoop library for your platform... using builtin-java classes where applicable\n"
     ]
    }
   ],
   "source": [
    "import numpy as np\n",
    "\n",
    "import os\n",
    "\n",
    "from pyspark.sql import SparkSession\n",
    "from pyspark.sql.functions import (\n",
    "    max, avg, sum, count, countDistinct, min,\n",
    "    percentile_approx, col, asc, desc, collect_list,\n",
    "    lit, rand, when, pandas_udf, PandasUDFType, expr,\n",
    "    date_trunc, date_format, to_date, explode, isnan\n",
    ")\n",
    "\n",
    "from pyspark.ml.evaluation import RankingEvaluator\n",
    "from pyspark.sql.types import DoubleType, StructField, StructType, StringType\n",
    "import pyspark.pandas as ps\n",
    "\n",
    "spark = SparkSession.builder.master('spark://cs305:22270').getOrCreate()"
   ]
  },
  {
   "cell_type": "code",
   "execution_count": 2,
   "id": "eaccfb7f",
   "metadata": {},
   "outputs": [],
   "source": [
    "def gen_utiltiy_matrix(interactions, tracks):\n",
    "    interactions.createOrReplaceTempView('interactions')\n",
    "    tracks.createOrReplaceTempView('tracks')\n",
    "\n",
    "    listens_per_user_track = spark.sql(\n",
    "        \"\"\"\n",
    "        SELECT user_id,universal_id,sum(num_listens) as num_listens\n",
    "        FROM interactions\n",
    "        LEFT JOIN tracks\n",
    "        ON tracks.recording_msid=interactions.recording_msid\n",
    "        GROUP BY user_id,universal_id\n",
    "        \"\"\"\n",
    "    )\n",
    "\n",
    "    listens_per_user = listens_per_user_track.select(\n",
    "        listens_per_user_track.user_id, listens_per_user_track.num_listens\n",
    "    ).groupBy('user_id').agg(\n",
    "        sum(listens_per_user_track.num_listens).alias('total_listens')\n",
    "    )\n",
    "\n",
    "    listens_per_user = listens_per_user.withColumn(\n",
    "        'use_for_fit',\n",
    "        when(\n",
    "            listens_per_user.total_listens >= 500, True\n",
    "        ).otherwise(\n",
    "            False\n",
    "        )\n",
    "    )\n",
    "\n",
    "    normed_listens_per_user_track = listens_per_user_track.join(listens_per_user, how='left', on='user_id')\n",
    "    normed_listens_per_user_track = normed_listens_per_user_track.withColumn(\n",
    "        \"prop_listens\",\n",
    "        col(\"num_listens\")/col(\"total_listens\")\n",
    "    ).select(\n",
    "        ['user_id', 'universal_id', 'prop_listens', 'use_for_fit']\n",
    "    ).orderBy(\n",
    "        col('user_id').asc(),\n",
    "        col('prop_listens').desc()\n",
    "    )\n",
    "\n",
    "    return normed_listens_per_user_track\n",
    "\n",
    "def gen_utiltiy_matrix_ema(interactions, tracks, window: int = 7):\n",
    "    interactions.createOrReplaceTempView('interactions')\n",
    "    tracks.createOrReplaceTempView('tracks')\n",
    "\n",
    "    listens_per_user_track = spark.sql(\n",
    "        \"\"\"\n",
    "        SELECT user_id,universal_id,sum(num_listens) as num_listens\n",
    "        FROM interactions\n",
    "        LEFT JOIN tracks\n",
    "        ON tracks.recording_msid=interactions.recording_msid\n",
    "        GROUP BY user_id,universal_id\n",
    "        \"\"\"\n",
    "    )\n",
    "\n",
    "    listens_per_user = listens_per_user_track.select(\n",
    "        listens_per_user_track.user_id, listens_per_user_track.num_listens\n",
    "    ).groupBy('user_id').agg(\n",
    "        sum(listens_per_user_track.num_listens).alias('total_listens')\n",
    "    )\n",
    "\n",
    "    listens_per_user = listens_per_user.withColumn(\n",
    "        'use_for_fit',\n",
    "        when(\n",
    "            listens_per_user.total_listens >= 500, True\n",
    "        ).otherwise(\n",
    "            False\n",
    "        )\n",
    "    )\n",
    "\n",
    "    normed_listens_per_user_track = listens_per_user_track.join(listens_per_user, how='left', on='user_id')\n",
    "    normed_listens_per_user_track = normed_listens_per_user_track.withColumn(\n",
    "        \"prop_listens\",\n",
    "        col(\"num_listens\")/col(\"total_listens\")\n",
    "    ).select(\n",
    "        ['user_id', 'universal_id', 'prop_listens', 'use_for_fit']\n",
    "    ).orderBy(\n",
    "        col('user_id').asc(),\n",
    "        col('prop_listens').desc()\n",
    "    )\n",
    "\n",
    "    return normed_listens_per_user_track\n",
    "\n",
    "def calc_baseline_popularity(utility_mat, beta):\n",
    "    utility_mat = utility_mat.filter(\n",
    "        utility_mat.use_for_fit\n",
    "    )\n",
    "\n",
    "    baseline_popularity = utility_mat.groupBy(\n",
    "        'universal_id'\n",
    "    ).agg(\n",
    "        sum(utility_mat.prop_listens).alias(\"total\"),\n",
    "        count(utility_mat.prop_listens).alias(\"num_users\"),\n",
    "    )\n",
    "\n",
    "    baseline_popularity = baseline_popularity.filter(\n",
    "        baseline_popularity.num_users >= 250\n",
    "    )\n",
    "    \n",
    "    baseline_popularity = baseline_popularity.withColumn(\n",
    "        \"P_i\",\n",
    "        col(\"total\") / (col(\"num_users\") + beta)\n",
    "    ).orderBy(\n",
    "        \"P_i\",\n",
    "        ascending=False\n",
    "    )\n",
    "\n",
    "    return baseline_popularity.select(['universal_id','P_i'])\n",
    "\n",
    "def calc_performance_metrics(predicted, actual):\n",
    "    actual_compressed = actual.groupBy(\n",
    "        'user_id'\n",
    "    ).agg(\n",
    "        collect_list(col('universal_id').astype('double')).alias('universal_id'),\n",
    "        collect_list(col('prop_listens').astype('double')).alias('prop_listens')\n",
    "    )\n",
    "    actual_compressed = actual_compressed.withColumn('key', lit(1))\n",
    "\n",
    "\n",
    "    predicted_compressed = predicted.limit(5000).agg(\n",
    "        collect_list(col('universal_id').astype('double')).alias('predicted_universal_id')\n",
    "    ).withColumn('key', lit(1))\n",
    "\n",
    "    results = actual_compressed.join(\n",
    "        predicted_compressed,\n",
    "        how='left',\n",
    "        on='key'\n",
    "    )\n",
    "\n",
    "    return RankingEvaluator(\n",
    "        predictionCol='predicted_universal_id',\n",
    "        labelCol='universal_id',\n",
    "        metricName='meanAveragePrecisionAtK',\n",
    "        k=100\n",
    "    ).evaluate(results)"
   ]
  },
  {
   "cell_type": "code",
   "execution_count": 13,
   "id": "9bbf8c7b",
   "metadata": {},
   "outputs": [
    {
     "ename": "AnalysisException",
     "evalue": "Column 'max_day' does not exist. Did you mean one of the following? [tracks.num_listens, tracks.universal_id, tracks.recording_msid, interactions.user_id, interactions.timestamp, tracks.__index_level_0__, interactions.recording_msid]; line 3 pos 60;\n'Aggregate [user_id#344, universal_id#351L, cast(cast(timestamp#346 as date) as string)], [user_id#344, universal_id#351L, sum(num_listens#352) AS num_listens#358, cast(cast(timestamp#346 as date) as string) AS date#359, max(timestamp#346) AS max_day#360, timestampdiff(day, timestamp#346, 'max_day, Some(America/New_York)) AS diff#361]\n+- Join LeftOuter, (recording_msid#350 = recording_msid#345)\n   :- SubqueryAlias interactions\n   :  +- View (`interactions`, [user_id#344,recording_msid#345,timestamp#346])\n   :     +- Relation [user_id#344,recording_msid#345,timestamp#346] parquet\n   +- SubqueryAlias tracks\n      +- View (`tracks`, [recording_msid#350,universal_id#351L,num_listens#352,__index_level_0__#353L])\n         +- Relation [recording_msid#350,universal_id#351L,num_listens#352,__index_level_0__#353L] parquet\n",
     "output_type": "error",
     "traceback": [
      "\u001b[0;31m---------------------------------------------------------------------------\u001b[0m",
      "\u001b[0;31mAnalysisException\u001b[0m                         Traceback (most recent call last)",
      "Cell \u001b[0;32mIn [13], line 7\u001b[0m\n\u001b[1;32m      4\u001b[0m interactions\u001b[38;5;241m.\u001b[39mcreateOrReplaceTempView(\u001b[38;5;124m'\u001b[39m\u001b[38;5;124minteractions\u001b[39m\u001b[38;5;124m'\u001b[39m)\n\u001b[1;32m      5\u001b[0m tracks\u001b[38;5;241m.\u001b[39mcreateOrReplaceTempView(\u001b[38;5;124m'\u001b[39m\u001b[38;5;124mtracks\u001b[39m\u001b[38;5;124m'\u001b[39m)\n\u001b[0;32m----> 7\u001b[0m listens_per_user_track \u001b[38;5;241m=\u001b[39m \u001b[43mspark\u001b[49m\u001b[38;5;241;43m.\u001b[39;49m\u001b[43msql\u001b[49m\u001b[43m(\u001b[49m\n\u001b[1;32m      8\u001b[0m \u001b[43m    \u001b[49m\u001b[38;5;124;43;03m\"\"\"\u001b[39;49;00m\n\u001b[1;32m      9\u001b[0m \u001b[38;5;124;43;03m    SELECT user_id,universal_id,sum(num_listens) as num_listens, CAST (CAST (timestamp AS DATE) AS STRING) AS date, \u001b[39;49;00m\n\u001b[1;32m     10\u001b[0m \u001b[38;5;124;43;03m        MAX(timestamp) AS max_day, DATEDIFF(day, timestamp, max_day) AS diff\u001b[39;49;00m\n\u001b[1;32m     11\u001b[0m \u001b[38;5;124;43;03m    FROM interactions\u001b[39;49;00m\n\u001b[1;32m     12\u001b[0m \u001b[38;5;124;43;03m    LEFT JOIN tracks\u001b[39;49;00m\n\u001b[1;32m     13\u001b[0m \u001b[38;5;124;43;03m    ON tracks.recording_msid=interactions.recording_msid\u001b[39;49;00m\n\u001b[1;32m     14\u001b[0m \u001b[38;5;124;43;03m    GROUP BY user_id,universal_id, CAST (CAST (timestamp AS DATE) AS STRING)\u001b[39;49;00m\n\u001b[1;32m     15\u001b[0m \u001b[38;5;124;43;03m    \"\"\"\u001b[39;49;00m\n\u001b[1;32m     16\u001b[0m \u001b[43m)\u001b[49m\n\u001b[1;32m     18\u001b[0m \u001b[38;5;66;03m# listens_per_user_track\u001b[39;00m\n\u001b[1;32m     19\u001b[0m \u001b[38;5;66;03m# listens_per_user_track = listens_per_user_track.na.fill(value=0,subset=[\"num_listens\"])\u001b[39;00m\n\u001b[1;32m     20\u001b[0m \n\u001b[0;32m   (...)\u001b[0m\n\u001b[1;32m     27\u001b[0m \n\u001b[1;32m     28\u001b[0m \u001b[38;5;66;03m# listens_per_user_track = listens_per_user_track.groupby('user_id').apply(ema)\u001b[39;00m\n\u001b[1;32m     29\u001b[0m listens_per_user_track\u001b[38;5;241m.\u001b[39mshow()\n",
      "File \u001b[0;32m/ext3/pyspark/lib/python3.10/site-packages/pyspark/sql/session.py:1034\u001b[0m, in \u001b[0;36mSparkSession.sql\u001b[0;34m(self, sqlQuery, **kwargs)\u001b[0m\n\u001b[1;32m   1032\u001b[0m     sqlQuery \u001b[38;5;241m=\u001b[39m formatter\u001b[38;5;241m.\u001b[39mformat(sqlQuery, \u001b[38;5;241m*\u001b[39m\u001b[38;5;241m*\u001b[39mkwargs)\n\u001b[1;32m   1033\u001b[0m \u001b[38;5;28;01mtry\u001b[39;00m:\n\u001b[0;32m-> 1034\u001b[0m     \u001b[38;5;28;01mreturn\u001b[39;00m DataFrame(\u001b[38;5;28;43mself\u001b[39;49m\u001b[38;5;241;43m.\u001b[39;49m\u001b[43m_jsparkSession\u001b[49m\u001b[38;5;241;43m.\u001b[39;49m\u001b[43msql\u001b[49m\u001b[43m(\u001b[49m\u001b[43msqlQuery\u001b[49m\u001b[43m)\u001b[49m, \u001b[38;5;28mself\u001b[39m)\n\u001b[1;32m   1035\u001b[0m \u001b[38;5;28;01mfinally\u001b[39;00m:\n\u001b[1;32m   1036\u001b[0m     \u001b[38;5;28;01mif\u001b[39;00m \u001b[38;5;28mlen\u001b[39m(kwargs) \u001b[38;5;241m>\u001b[39m \u001b[38;5;241m0\u001b[39m:\n",
      "File \u001b[0;32m/ext3/pyspark/lib/python3.10/site-packages/py4j/java_gateway.py:1321\u001b[0m, in \u001b[0;36mJavaMember.__call__\u001b[0;34m(self, *args)\u001b[0m\n\u001b[1;32m   1315\u001b[0m command \u001b[38;5;241m=\u001b[39m proto\u001b[38;5;241m.\u001b[39mCALL_COMMAND_NAME \u001b[38;5;241m+\u001b[39m\\\n\u001b[1;32m   1316\u001b[0m     \u001b[38;5;28mself\u001b[39m\u001b[38;5;241m.\u001b[39mcommand_header \u001b[38;5;241m+\u001b[39m\\\n\u001b[1;32m   1317\u001b[0m     args_command \u001b[38;5;241m+\u001b[39m\\\n\u001b[1;32m   1318\u001b[0m     proto\u001b[38;5;241m.\u001b[39mEND_COMMAND_PART\n\u001b[1;32m   1320\u001b[0m answer \u001b[38;5;241m=\u001b[39m \u001b[38;5;28mself\u001b[39m\u001b[38;5;241m.\u001b[39mgateway_client\u001b[38;5;241m.\u001b[39msend_command(command)\n\u001b[0;32m-> 1321\u001b[0m return_value \u001b[38;5;241m=\u001b[39m \u001b[43mget_return_value\u001b[49m\u001b[43m(\u001b[49m\n\u001b[1;32m   1322\u001b[0m \u001b[43m    \u001b[49m\u001b[43manswer\u001b[49m\u001b[43m,\u001b[49m\u001b[43m \u001b[49m\u001b[38;5;28;43mself\u001b[39;49m\u001b[38;5;241;43m.\u001b[39;49m\u001b[43mgateway_client\u001b[49m\u001b[43m,\u001b[49m\u001b[43m \u001b[49m\u001b[38;5;28;43mself\u001b[39;49m\u001b[38;5;241;43m.\u001b[39;49m\u001b[43mtarget_id\u001b[49m\u001b[43m,\u001b[49m\u001b[43m \u001b[49m\u001b[38;5;28;43mself\u001b[39;49m\u001b[38;5;241;43m.\u001b[39;49m\u001b[43mname\u001b[49m\u001b[43m)\u001b[49m\n\u001b[1;32m   1324\u001b[0m \u001b[38;5;28;01mfor\u001b[39;00m temp_arg \u001b[38;5;129;01min\u001b[39;00m temp_args:\n\u001b[1;32m   1325\u001b[0m     temp_arg\u001b[38;5;241m.\u001b[39m_detach()\n",
      "File \u001b[0;32m/ext3/pyspark/lib/python3.10/site-packages/pyspark/sql/utils.py:196\u001b[0m, in \u001b[0;36mcapture_sql_exception.<locals>.deco\u001b[0;34m(*a, **kw)\u001b[0m\n\u001b[1;32m    192\u001b[0m converted \u001b[38;5;241m=\u001b[39m convert_exception(e\u001b[38;5;241m.\u001b[39mjava_exception)\n\u001b[1;32m    193\u001b[0m \u001b[38;5;28;01mif\u001b[39;00m \u001b[38;5;129;01mnot\u001b[39;00m \u001b[38;5;28misinstance\u001b[39m(converted, UnknownException):\n\u001b[1;32m    194\u001b[0m     \u001b[38;5;66;03m# Hide where the exception came from that shows a non-Pythonic\u001b[39;00m\n\u001b[1;32m    195\u001b[0m     \u001b[38;5;66;03m# JVM exception message.\u001b[39;00m\n\u001b[0;32m--> 196\u001b[0m     \u001b[38;5;28;01mraise\u001b[39;00m converted \u001b[38;5;28;01mfrom\u001b[39;00m \u001b[38;5;28mNone\u001b[39m\n\u001b[1;32m    197\u001b[0m \u001b[38;5;28;01melse\u001b[39;00m:\n\u001b[1;32m    198\u001b[0m     \u001b[38;5;28;01mraise\u001b[39;00m\n",
      "\u001b[0;31mAnalysisException\u001b[0m: Column 'max_day' does not exist. Did you mean one of the following? [tracks.num_listens, tracks.universal_id, tracks.recording_msid, interactions.user_id, interactions.timestamp, tracks.__index_level_0__, interactions.recording_msid]; line 3 pos 60;\n'Aggregate [user_id#344, universal_id#351L, cast(cast(timestamp#346 as date) as string)], [user_id#344, universal_id#351L, sum(num_listens#352) AS num_listens#358, cast(cast(timestamp#346 as date) as string) AS date#359, max(timestamp#346) AS max_day#360, timestampdiff(day, timestamp#346, 'max_day, Some(America/New_York)) AS diff#361]\n+- Join LeftOuter, (recording_msid#350 = recording_msid#345)\n   :- SubqueryAlias interactions\n   :  +- View (`interactions`, [user_id#344,recording_msid#345,timestamp#346])\n   :     +- Relation [user_id#344,recording_msid#345,timestamp#346] parquet\n   +- SubqueryAlias tracks\n      +- View (`tracks`, [recording_msid#350,universal_id#351L,num_listens#352,__index_level_0__#353L])\n         +- Relation [recording_msid#350,universal_id#351L,num_listens#352,__index_level_0__#353L] parquet\n"
     ]
    }
   ],
   "source": [
    "interactions = spark.read.parquet(\"/scratch/work/courses/DSGA1004-2021/listenbrainz/interactions_test.parquet\")\n",
    "tracks = spark.read.parquet('tracks_test.parquet') \n",
    "\n",
    "interactions.createOrReplaceTempView('interactions')\n",
    "tracks.createOrReplaceTempView('tracks')\n",
    "\n",
    "listens_per_user_track = spark.sql(\n",
    "    \"\"\"\n",
    "    SELECT user_id,universal_id,sum(num_listens) as num_listens, CAST (CAST (timestamp AS DATE) AS STRING) AS date, \n",
    "        MAX(timestamp) AS max_day, DATEDIFF(day, timestamp, max_day) AS diff\n",
    "    FROM interactions\n",
    "    LEFT JOIN tracks\n",
    "    ON tracks.recording_msid=interactions.recording_msid\n",
    "    GROUP BY user_id,universal_id, CAST (CAST (timestamp AS DATE) AS STRING)\n",
    "    \"\"\"\n",
    ")\n",
    "\n",
    "# listens_per_user_track\n",
    "# listens_per_user_track = listens_per_user_track.na.fill(value=0,subset=[\"num_listens\"])\n",
    "\n",
    "# schema = (listens_per_user_track.select('*')).schema.add(StructField('num_listens_ema', DoubleType()))\n",
    "\n",
    "# @pandas_udf(schema, PandasUDFType.GROUPED_MAP)\n",
    "# def ema(pdf):\n",
    "#     pdf['num_listens_ema'] = pdf['num_listens'].ewm(span=1.5, min_periods=1).mean()\n",
    "#     return pdf\n",
    "\n",
    "# listens_per_user_track = listens_per_user_track.groupby('user_id').apply(ema)\n",
    "listens_per_user_track.show()"
   ]
  },
  {
   "cell_type": "code",
   "execution_count": null,
   "id": "e2d4eddf",
   "metadata": {},
   "outputs": [],
   "source": [
    "all_dates_df.orderBy('date').collect()"
   ]
  },
  {
   "cell_type": "code",
   "execution_count": 7,
   "id": "c5905cf9",
   "metadata": {},
   "outputs": [
    {
     "name": "stderr",
     "output_type": "stream",
     "text": [
      "/ext3/pyspark/lib/python3.10/site-packages/pyspark/pandas/utils.py:975: PandasAPIOnSparkAdviceWarning: If `index_col` is not specified for `read_parquet`, the default index is attached which can cause additional overhead.\n",
      "  warnings.warn(message, PandasAPIOnSparkAdviceWarning)\n"
     ]
    }
   ],
   "source": [
    "# interactions = ps.read_parquet(\"/scratch/work/courses/DSGA1004-2021/listenbrainz/interactions_test.parquet\")\n",
    "# tracks = spark.read.parquet('tracks_test.parquet')\n",
    "# tracks = tracks.drop('__index_level_0__')\n",
    "# tracks = ps.DataFrame(tracks)\n",
    "\n",
    "# interactions['date'] = interactions['timestamp'].dt.date\n",
    "# listens_per_day = interactions.merge(tracks, on='recording_msid', how='left') \\\n",
    "#                     .groupby(['user_id', 'universal_id', 'date']) \\\n",
    "#                     .sum() \\\n",
    "#                     .reset_index()\n",
    "# listens_per_day = listens_per_day.sort_values(by=['date'])\n",
    "\n",
    "# lisens_per_day['ema_num_listens'] = listens_per_day['num_listens'].ewm(com=1, min_periods=3).mean()"
   ]
  },
  {
   "cell_type": "code",
   "execution_count": 4,
   "id": "1d889aaa",
   "metadata": {},
   "outputs": [
    {
     "name": "stderr",
     "output_type": "stream",
     "text": [
      "                                                                                \r"
     ]
    }
   ],
   "source": [
    "interactions_train = spark.read.parquet('interactions_split_train.parquet')\n",
    "interactions_val = spark.read.parquet('interactions_split_val.parquet')\n",
    "interactions_test = spark.read.parquet(\"/scratch/work/courses/DSGA1004-2021/listenbrainz/interactions_test.parquet\")\n",
    "\n",
    "tracks_train = spark.read.parquet('tracks_train.parquet')\n",
    "tracks_test = spark.read.parquet('tracks_test.parquet')"
   ]
  },
  {
   "cell_type": "code",
   "execution_count": 5,
   "id": "ef7ec926",
   "metadata": {},
   "outputs": [],
   "source": [
    "utility_mat_train = gen_utiltiy_matrix(interactions_train, tracks_train)\n",
    "utility_mat_val = gen_utiltiy_matrix(interactions_val, tracks_train)\n",
    "utility_mat_test = gen_utiltiy_matrix(interactions_test, tracks_test)"
   ]
  },
  {
   "cell_type": "code",
   "execution_count": null,
   "id": "3aecdc58",
   "metadata": {
    "scrolled": false
   },
   "outputs": [
    {
     "name": "stdout",
     "output_type": "stream",
     "text": [
      "Running Beta = 1.0\n"
     ]
    },
    {
     "name": "stderr",
     "output_type": "stream",
     "text": [
      "[Stage 67:=======================================================>(63 + 1) / 64]\r"
     ]
    }
   ],
   "source": [
    "candidate_betas = 10 ** np.linspace(0, 8, 150)\n",
    "\n",
    "betas = []\n",
    "map_at_100_train = []\n",
    "map_at_100_val = []\n",
    "map_at_100_test = []\n",
    "\n",
    "for beta in candidate_betas:\n",
    "    print(f\"Running Beta = {round(beta, 0)}\")\n",
    "\n",
    "    baseline_pops_train = calc_baseline_popularity(utility_mat_train, beta)\n",
    "    \n",
    "    metrics_train = calc_performance_metrics(baseline_pops_train, utility_mat_train)\n",
    "    metrics_val = calc_performance_metrics(baseline_pops_train, utility_mat_val)\n",
    "    metrics_test = calc_performance_metrics(baseline_pops_train, utility_mat_test)\n",
    "\n",
    "    betas.append(beta)\n",
    "    map_at_100_train.append(metrics_train)\n",
    "    map_at_100_val.append(metrics_val)\n",
    "    map_at_100_test.append(metrics_test)\n",
    "    \n",
    "    print(f\"MAP Train: {round(metrics_train, 5)}, MAP Val: {round(metrics_val, 5)}, MAP Test: {round(metrics_test, 5)}\")"
   ]
  },
  {
   "cell_type": "code",
   "execution_count": null,
   "id": "e1a437f0",
   "metadata": {},
   "outputs": [],
   "source": [
    "import pandas as pd\n",
    "\n",
    "pd.DataFrame({\n",
    "    'beta': betas,\n",
    "    'Train MAP': map_at_100_train,\n",
    "    'Validation MAP': map_at_100_val,\n",
    "    'Test MAP': map_at_100_test\n",
    "}).to_csv('baseline_popularity_results.csv')"
   ]
  },
  {
   "cell_type": "code",
   "execution_count": null,
   "id": "937f6a1d",
   "metadata": {},
   "outputs": [],
   "source": []
  }
 ],
 "metadata": {
  "kernelspec": {
   "display_name": "Python 3 (ipykernel)",
   "language": "python",
   "name": "python3"
  },
  "language_info": {
   "codemirror_mode": {
    "name": "ipython",
    "version": 3
   },
   "file_extension": ".py",
   "mimetype": "text/x-python",
   "name": "python",
   "nbconvert_exporter": "python",
   "pygments_lexer": "ipython3",
   "version": "3.10.6"
  }
 },
 "nbformat": 4,
 "nbformat_minor": 5
}

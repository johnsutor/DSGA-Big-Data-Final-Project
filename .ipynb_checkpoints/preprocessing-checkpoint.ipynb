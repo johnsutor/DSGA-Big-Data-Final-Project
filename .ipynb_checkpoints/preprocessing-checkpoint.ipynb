{
 "cells": [
  {
   "cell_type": "markdown",
   "id": "functioning-country",
   "metadata": {},
   "source": [
    "# Universal ID Generator"
   ]
  },
  {
   "cell_type": "code",
   "execution_count": 1,
   "id": "wired-victor",
   "metadata": {},
   "outputs": [],
   "source": [
    "import numpy as np\n",
    "import pandas as pd"
   ]
  },
  {
   "cell_type": "code",
   "execution_count": 2,
   "id": "37c20958-e11a-407f-91bc-f8638fc80ea1",
   "metadata": {},
   "outputs": [],
   "source": [
    "train = pd.read_parquet(\"/scratch/work/courses/DSGA1004-2021/listenbrainz/tracks_train.parquet\")\n",
    "train['train_test'] = 'train'\n",
    "\n",
    "test = pd.read_parquet(\"/scratch/work/courses/DSGA1004-2021/listenbrainz/tracks_test.parquet\")\n",
    "test['train_test'] = 'test'\n",
    "\n",
    "tracks = pd.concat([train, test])\n",
    "\n",
    "tracks['track_name'] = tracks['track_name'].apply(str.lower)\n",
    "tracks['artist_name'] = tracks['artist_name'].apply(str.lower)"
   ]
  },
  {
   "cell_type": "code",
   "execution_count": 3,
   "id": "32d7edd7-dc0f-4bf4-b449-7dc1ff40bd84",
   "metadata": {},
   "outputs": [],
   "source": [
    "tracks_filtered = tracks[~tracks['recording_mbid'].isna()]\n",
    "tracks_nans = tracks[tracks['recording_mbid'].isna()]"
   ]
  },
  {
   "cell_type": "code",
   "execution_count": null,
   "id": "48a6a618-169a-40b1-87cc-420ce20a5033",
   "metadata": {},
   "outputs": [],
   "source": [
    "imputed = tracks_nans.drop(columns=['recording_mbid']).merge(\n",
    "    tracks_filtered.drop(columns=['recording_msid','train_test']).drop_duplicates(),\n",
    "    how='left',\n",
    "    on=['artist_name','track_name']\n",
    ")\n",
    "\n",
    "imputed_matched = imputed[~imputed['recording_mbid'].isna()]\n",
    "imputed_not_matched = imputed[imputed['recording_mbid'].isna()]"
   ]
  },
  {
   "cell_type": "code",
   "execution_count": null,
   "id": "83e61054-7906-4b3b-8443-7202e92e1a51",
   "metadata": {},
   "outputs": [],
   "source": [
    "start_id = 0\n",
    "\n",
    "tracks_filtered_mbids = tracks_filtered[['recording_mbid']].drop_duplicates()\n",
    "tracks_filtered_mbids['universal_id'] = np.arange(len(tracks_filtered_mbids))\n",
    "start_id += len(tracks_filtered_mbids)\n",
    "\n",
    "tracks_filtered = tracks_filtered.merge(tracks_filtered_mbids, how='left', on='recording_mbid')\n",
    "\n",
    "tracks_filtered_counts = tracks_filtered.groupby(['train_test','recording_msid']).agg({'recording_mbid': 'count'}).reset_index()\n",
    "\n",
    "tracks_filtered_counts['recording_mbid'] = 1/tracks_filtered_counts['recording_mbid']\n",
    "tracks_filtered_counts = tracks_filtered_counts.rename(columns={'recording_mbid': 'num_listens'})\n",
    "\n",
    "tracks_filtered = tracks_filtered.merge(tracks_filtered_counts, how='left', on=['train_test','recording_msid'])"
   ]
  },
  {
   "cell_type": "code",
   "execution_count": null,
   "id": "406c4289-c1a5-4208-a4d9-f59a72e77090",
   "metadata": {},
   "outputs": [],
   "source": [
    "imputed_matched_counts = imputed_matched.groupby(['train_test','recording_msid']).agg({'recording_mbid': 'count'}).reset_index()\n",
    "\n",
    "imputed_matched_counts['recording_mbid'] = 1/imputed_matched_counts['recording_mbid']\n",
    "imputed_matched_counts = imputed_matched_counts.rename(columns={'recording_mbid': 'num_listens'})\n",
    "\n",
    "imputed_matched = imputed_matched.merge(imputed_matched_counts, how='left', on=['train_test', 'recording_msid'])\n",
    "imputed_matched = imputed_matched.merge(tracks_filtered_mbids, how='left', on='recording_mbid')"
   ]
  },
  {
   "cell_type": "code",
   "execution_count": null,
   "id": "ef6ee77b-615e-4758-a8c6-c0c12fa0546f",
   "metadata": {},
   "outputs": [],
   "source": [
    "imputed_not_matched_ids = imputed_not_matched[['track_name','artist_name']].drop_duplicates()\n",
    "imputed_not_matched_ids['universal_id'] = np.arange(len(imputed_not_matched_ids)) + start_id\n",
    "\n",
    "imputed_not_matched = imputed_not_matched.merge(imputed_not_matched_ids, how='left', on=['artist_name', 'track_name'])\n",
    "imputed_not_matched['num_listens'] = 1"
   ]
  },
  {
   "cell_type": "code",
   "execution_count": null,
   "id": "45a5cded-01cd-4513-9f54-3eed13cee045",
   "metadata": {},
   "outputs": [],
   "source": [
    "cols = ['train_test', 'recording_msid', 'universal_id', 'num_listens']\n",
    "\n",
    "cleaned_mapping = pd.concat([\n",
    "    tracks_filtered[cols],\n",
    "    imputed_matched[cols],\n",
    "    imputed_not_matched[cols]\n",
    "])"
   ]
  },
  {
   "cell_type": "code",
   "execution_count": null,
   "id": "94a934eb-ec30-466b-97dc-dc9f7fb76499",
   "metadata": {},
   "outputs": [],
   "source": [
    "assert len(cleaned_mapping[['train_test','recording_msid']].drop_duplicates()) == len(tracks[['train_test','recording_msid']].drop_duplicates())\n",
    "\n",
    "listen_totals = cleaned_mapping.groupby(['train_test','recording_msid']).agg({'num_listens': 'sum'}).reset_index()\n",
    "assert np.max(abs(listen_totals['num_listens'] - 1)) < 1e-6\n",
    "\n",
    "assert len(cleaned_mapping[cleaned_mapping['train_test'] == 'train']['recording_msid'].unique()) == len(train)\n",
    "assert len(cleaned_mapping[cleaned_mapping['train_test'] == 'test']['recording_msid'].unique()) == len(test)"
   ]
  },
  {
   "cell_type": "code",
   "execution_count": null,
   "id": "c1583388-509b-4ad0-a5ae-049ba4ae7826",
   "metadata": {},
   "outputs": [],
   "source": [
    "cleaned_mapping[cleaned_mapping['train_test'] == 'train'].drop(columns='train_test').to_parquet(f'tracks_train.parquet')\n",
    "cleaned_mapping[cleaned_mapping['train_test'] == 'test'].drop(columns='train_test').to_parquet(f'tracks_test.parquet')"
   ]
  },
  {
   "cell_type": "code",
   "execution_count": null,
   "id": "dc357c21",
   "metadata": {},
   "outputs": [],
   "source": []
  }
 ],
 "metadata": {
  "kernelspec": {
   "display_name": "Python 3 (ipykernel)",
   "language": "python",
   "name": "python3"
  },
  "language_info": {
   "codemirror_mode": {
    "name": "ipython",
    "version": 3
   },
   "file_extension": ".py",
   "mimetype": "text/x-python",
   "name": "python",
   "nbconvert_exporter": "python",
   "pygments_lexer": "ipython3",
   "version": "3.10.6"
  }
 },
 "nbformat": 4,
 "nbformat_minor": 5
}
